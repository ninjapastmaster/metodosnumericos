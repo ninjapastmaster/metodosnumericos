{
  "nbformat": 4,
  "nbformat_minor": 0,
  "metadata": {
    "colab": {
      "name": "Método de la Biseccion en Python",
      "provenance": [],
      "authorship_tag": "ABX9TyOcBZSfSLBgGXcEmXNUyhi7",
      "include_colab_link": true
    },
    "kernelspec": {
      "name": "python3",
      "display_name": "Python 3"
    }
  },
  "cells": [
    {
      "cell_type": "markdown",
      "metadata": {
        "id": "view-in-github",
        "colab_type": "text"
      },
      "source": [
        "<a href=\"https://colab.research.google.com/github/ninjapastmaster/metodosnumericos/blob/master/M%C3%A9todo_de_la_Biseccion_en_Python.ipynb\" target=\"_parent\"><img src=\"https://colab.research.google.com/assets/colab-badge.svg\" alt=\"Open In Colab\"/></a>"
      ]
    },
    {
      "cell_type": "markdown",
      "metadata": {
        "id": "9_qAcCkQwxc2",
        "colab_type": "text"
      },
      "source": [
        "**Método de la Bisección**\n"
      ]
    },
    {
      "cell_type": "code",
      "metadata": {
        "id": "LXxMeG45z1N7",
        "colab_type": "code",
        "colab": {}
      },
      "source": [
        "\n",
        "#Realizado en python 3.x\n",
        "#Biseccion 1\n",
        "from math import sin,cos,tan,asin,acos,atan,sqrt,log,exp\n",
        "from math import sinh,cosh,tanh,asinh,acosh,atanh\n",
        "print('Metodo de Bisseccion\\n')\n",
        "ec=input('De la funcion a resolver: ')  \n",
        "x1=float(input('de el extremo inferior del intervalo aproximado: '))\n",
        "x2=float(input('de el extremo superior del intervalo aproximado: '))\n",
        "errordeseado=float(input('De el error deseado: '))\n",
        " \n",
        "\n",
        "def f(x):\n",
        "    return eval(ec)\n",
        "\n",
        " \n",
        "while True:\n",
        "    xmed=(x1+x2)/2\n",
        "    fxmed=f(xmed)\n",
        "    if fxmed==0.0:\n",
        "        break\n",
        " \n",
        "    if (f(x1)*f(xmed))<0:\n",
        "        x1=x1\n",
        "        x2=xmed\n",
        "    else:\n",
        "        x1=xmed\n",
        "        x2=x2\n",
        "    error=abs(x2-x1)\n",
        "    if error<errordeseado:\n",
        "        break\n",
        " \n",
        "\n",
        "print ('La raíz es',xmed)\n",
        "input(' ')\n",
        "\n"
      ],
      "execution_count": 0,
      "outputs": []
    },
    {
      "cell_type": "markdown",
      "metadata": {
        "id": "elM2QUI1fcVI",
        "colab_type": "text"
      },
      "source": [
        "METODO DE BISECCION #2"
      ]
    },
    {
      "cell_type": "markdown",
      "metadata": {
        "id": "aDjtYtdBfjkj",
        "colab_type": "text"
      },
      "source": [
        "Este segundo metodo al activarlo por collab no funciona, e verificado algunos errores y  no hay respuesta."
      ]
    },
    {
      "cell_type": "code",
      "metadata": {
        "id": "sySWKJp0f2Ft",
        "colab_type": "code",
        "colab": {}
      },
      "source": [
        "#Biseccion 2\n",
        "#!/usr/bin/python\n",
        "import evaluar\n",
        "from pylab import *\n",
        "from Numeric import *\n",
        " \n",
        "def biseccion(a, b, TOL, N):\n",
        "    evaluar.dicc_seguro['x']=a\n",
        "    fa = eval(evaluar.funcion, {\"__builtins__\":None}, evaluar.dicc_seguro)\n",
        " \n",
        "    vectorx = zeros(N, Float64)\n",
        "    vectory = zeros(N, Float64)\n",
        " \n",
        "    i = 1\n",
        "    while i<=N :\n",
        "        p = (a+b)/2.0\n",
        "        vectorx[i-1] = p\n",
        "        evaluar.dicc_seguro['x']=p\n",
        "        fp = eval(evaluar.funcion, {\"__builtins__\":None}, evaluar.dicc_seguro)\n",
        "        vectory[i-1]=fp\n",
        "        if (fp == 0.0) or ((b-a)/2.0)<tol:\n",
        "            print (\"La raiz buscada es: \",p, \"con\", i-1, \"iteraciones\")\n",
        "            break\n",
        "        i = i+1\n",
        "        if (fa*fp)>0 :\n",
        "            a = p\n",
        "        else :\n",
        "            b = p\n",
        " \n",
        "    return [vectorx, vectory]\n",
        " \n",
        "def dibujar(a,b, TOL, N):\n",
        "  x = arange(a,b,0.1)\n",
        "  vectores=biseccion(a, b, TOL, N)\n",
        " \n",
        "  subplot(211)\n",
        "  plot(x, eval(evaluar.funcion), linewidth=1.0)\n",
        "  xlabel('Abcisa')\n",
        "  ylabel('Ordenada')\n",
        "  title('Metodo Biseccion con f(x)=' + evaluar.funcion)\n",
        "  grid(True)\n",
        "  axhline(linewidth=1, color='r')\n",
        "  axvline(linewidth=1, color='r')\n",
        " \n",
        "  subplot(212)\n",
        "  plot(vectores[0], vectores[1], 'k.')\n",
        "  xlabel('Abcisa')\n",
        "  ylabel('Ordenada')\n",
        "  grid(True)\n",
        "  axhline(linewidth=1, color='r')\n",
        "  axvline(linewidth=1, color='r')\n",
        " \n",
        "  show()\n"
      ],
      "execution_count": 0,
      "outputs": []
    }
  ]
}