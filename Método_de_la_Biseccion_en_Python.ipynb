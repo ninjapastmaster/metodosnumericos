{
  "nbformat": 4,
  "nbformat_minor": 0,
  "metadata": {
    "colab": {
      "name": "Método de la Biseccion en Python",
      "provenance": [],
      "authorship_tag": "ABX9TyNhklcZ92Xh524DMouf3j6J",
      "include_colab_link": true
    },
    "kernelspec": {
      "name": "python3",
      "display_name": "Python 3"
    }
  },
  "cells": [
    {
      "cell_type": "markdown",
      "metadata": {
        "id": "view-in-github",
        "colab_type": "text"
      },
      "source": [
        "<a href=\"https://colab.research.google.com/github/ninjapastmaster/metodosnumericos/blob/master/M%C3%A9todo_de_la_Biseccion_en_Python.ipynb\" target=\"_parent\"><img src=\"https://colab.research.google.com/assets/colab-badge.svg\" alt=\"Open In Colab\"/></a>"
      ]
    },
    {
      "cell_type": "markdown",
      "metadata": {
        "id": "9_qAcCkQwxc2",
        "colab_type": "text"
      },
      "source": [
        "**Método de la Bisección**\n"
      ]
    },
    {
      "cell_type": "code",
      "metadata": {
        "id": "AOr5gRf4yQRf",
        "colab_type": "code",
        "colab": {}
      },
      "source": [
        "\n",
        "#Realizado en python 3.x\n",
        "#Biseccion 1\n",
        "from math import sin,cos,tan,asin,acos,atan,sqrt,log,exp\n",
        "from math import sinh,cosh,tanh,asinh,acosh,atanh\n",
        "print('Metodo de Bisseccion\\n')\n",
        "ec=input('De la funcion a resolver: ')  \n",
        "x1=float(input('de el extremo inferior del intervalo aproximado: '))\n",
        "x2=float(input('de el extremo superior del intervalo aproximado: '))\n",
        "errordeseado=float(input('De el error deseado: '))\n",
        " \n",
        "\n",
        "def f(x):\n",
        "    return eval(ec)\n",
        "\n",
        " \n",
        "while True:\n",
        "    xmed=(x1+x2)/2\n",
        "    fxmed=f(xmed)\n",
        "    if fxmed==0.0:\n",
        "        break\n",
        " \n",
        "    if (f(x1)*f(xmed))<0:\n",
        "        x1=x1\n",
        "        x2=xmed\n",
        "    else:\n",
        "        x1=xmed\n",
        "        x2=x2\n",
        "    error=abs(x2-x1)\n",
        "    if error<errordeseado:\n",
        "        break\n",
        " \n",
        "\n",
        "print ('La raíz es',xmed)\n",
        "input(' ')\n"
      ],
      "execution_count": 0,
      "outputs": []
    }
  ]
}