{
  "nbformat": 4,
  "nbformat_minor": 0,
  "metadata": {
    "colab": {
      "name": "newton raphson.ipynb",
      "provenance": [],
      "authorship_tag": "ABX9TyMAepG3tuOxY5dBd86rT64C",
      "include_colab_link": true
    },
    "kernelspec": {
      "name": "python3",
      "display_name": "Python 3"
    }
  },
  "cells": [
    {
      "cell_type": "markdown",
      "metadata": {
        "id": "view-in-github",
        "colab_type": "text"
      },
      "source": [
        "<a href=\"https://colab.research.google.com/github/ninjapastmaster/metodosnumericos/blob/master/Metodo%20Newton_Raphson.ipynb\" target=\"_parent\"><img src=\"https://colab.research.google.com/assets/colab-badge.svg\" alt=\"Open In Colab\"/></a>"
      ]
    },
    {
      "cell_type": "markdown",
      "metadata": {
        "id": "Qy6XpNgZRpAV",
        "colab_type": "text"
      },
      "source": [
        "**METODO DE NEWTON RAPHSON**"
      ]
    },
    {
      "cell_type": "code",
      "metadata": {
        "id": "5LWoYCELp6d4",
        "colab_type": "code",
        "colab": {}
      },
      "source": [
        "# Método de Newton-Raphson\n",
        "# Ejemplo \n",
        "\n",
        "import numpy as np\n",
        "\n",
        "# INGRESO\n",
        "fx = lambda x: x**3 + 4*(x**2) - 10\n",
        "dfx = lambda x: 3*(x**2) + 8*x\n",
        "\n",
        "x0 = 2\n",
        "tolera = 0.001\n",
        "\n",
        "# PROCEDIMIENTO\n",
        "tabla = []\n",
        "tramo = abs(2*tolera)\n",
        "xi = x0\n",
        "while (tramo>=tolera):\n",
        "    xnuevo = xi - fx(xi)/dfx(xi)\n",
        "    tramo = abs(xnuevo-xi)\n",
        "    tabla.append([xi,xnuevo,tramo])\n",
        "    xi = xnuevo\n",
        "\n",
        "# convierte la lista a un arreglo.\n",
        "tabla = np.array(tabla)\n",
        "n=len(tabla)\n",
        "\n",
        "# SALIDA\n",
        "print(['xi', 'xnuevo', 'tramo'])\n",
        "np.set_printoptions(precision = 4)\n",
        "print(tabla)\n",
        "print('raiz en: ', xi)\n",
        "print('con error de: ',tramo)\n"
      ],
      "execution_count": 0,
      "outputs": []
    }
  ]
}