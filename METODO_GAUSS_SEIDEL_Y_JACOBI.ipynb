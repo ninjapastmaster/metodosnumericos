{
  "nbformat": 4,
  "nbformat_minor": 0,
  "metadata": {
    "colab": {
      "name": "Copia de METODO  GAUSS SEIDEL Y JACOBI",
      "provenance": [],
      "authorship_tag": "ABX9TyNLf3V1JSUHxKM3zdPe174z",
      "include_colab_link": true
    },
    "kernelspec": {
      "name": "python3",
      "display_name": "Python 3"
    }
  },
  "cells": [
    {
      "cell_type": "markdown",
      "metadata": {
        "id": "view-in-github",
        "colab_type": "text"
      },
      "source": [
        "<a href=\"https://colab.research.google.com/github/ninjapastmaster/metodosnumericos/blob/master/METODO_GAUSS_SEIDEL_Y_JACOBI.ipynb\" target=\"_parent\"><img src=\"https://colab.research.google.com/assets/colab-badge.svg\" alt=\"Open In Colab\"/></a>"
      ]
    },
    {
      "cell_type": "markdown",
      "metadata": {
        "id": "0We3vVBmMOaQ",
        "colab_type": "text"
      },
      "source": [
        "**METODOS NUMERICOS**"
      ]
    },
    {
      "cell_type": "markdown",
      "metadata": {
        "id": "DDRi-86SMN-R",
        "colab_type": "text"
      },
      "source": [
        "**METODO DE GAUSS-SEIDEL EN PYTHON**"
      ]
    },
    {
      "cell_type": "markdown",
      "metadata": {
        "id": "Ovspymn0MZUf",
        "colab_type": "text"
      },
      "source": [
        "Codigo con una matriz 4x4,podemos modificarle los valores numeros en la matriz para obtener resultados de cualquier tipo de ecuacion, tiene un maximo de de 10 iteraciones."
      ]
    },
    {
      "cell_type": "code",
      "metadata": {
        "id": "YouASPnfL7Ig",
        "colab_type": "code",
        "colab": {}
      },
      "source": [
        "import numpy as np\n",
        "\n",
        "ITERATION_LIMIT = 1000\n",
        "\n",
        "# initialize the matrix\n",
        "A = np.array([[10., -1., 2., 0.],\n",
        "              [-1., 11., -1., 3.],\n",
        "              [2., -1., 10., -1.],\n",
        "              [0., 3., -1., 8.]])\n",
        "# initialize the RHS vector\n",
        "b = np.array([6., 25., -11., 15.])\n",
        "\n",
        "print(\"System of equations:\")\n",
        "for i in range(A.shape[0]):\n",
        "    row = [\"{0:3g}*x{1}\".format(A[i, j], j + 1) for j in range(A.shape[1])]\n",
        "    print(\"[{0}] = [{1:3g}]\".format(\" + \".join(row), b[i]))\n",
        "\n",
        "x = np.zeros_like(b)\n",
        "for it_count in range(1, ITERATION_LIMIT):\n",
        "    x_new = np.zeros_like(x)\n",
        "    print(\"Iteration {0}: {1}\".format(it_count, x))\n",
        "    for i in range(A.shape[0]):\n",
        "        s1 = np.dot(A[i, :i], x_new[:i])\n",
        "        s2 = np.dot(A[i, i + 1:], x[i + 1:])\n",
        "        x_new[i] = (b[i] - s1 - s2) / A[i, i]\n",
        "    if np.allclose(x, x_new, rtol=1e-8):\n",
        "        break\n",
        "    x = x_new\n",
        "\n",
        "print(\"Solution: {0}\".format(x))\n",
        "error = np.dot(A, x) - b\n",
        "print(\"Error: {0}\".format(error))\n"
      ],
      "execution_count": 0,
      "outputs": []
    },
    {
      "cell_type": "markdown",
      "metadata": {
        "id": "zAz3cnmkMd5J",
        "colab_type": "text"
      },
      "source": [
        "**METODO DE JACOBI EN PYTHON**"
      ]
    },
    {
      "cell_type": "markdown",
      "metadata": {
        "id": "GkdkFnerMjPB",
        "colab_type": "text"
      },
      "source": [
        "EN ESTE METODO IGUAL QUE EL ANTERIOR EN EL CODIGO HAY QUE INGRESAR LOS DATOS NUMERICOS Y DETERMINAR EN NUMERO DE ITERACIONES QUE PUEDE HACER  Y  DAR UN RESULTADO SEGUN  EL NUMERO DE ITERACIONES."
      ]
    },
    {
      "cell_type": "code",
      "metadata": {
        "id": "vMBKS0vLMmwi",
        "colab_type": "code",
        "colab": {}
      },
      "source": [
        "\n",
        "import numpy as np\n",
        "\n",
        "# Iterative solution\n",
        "# Jacobi method\n",
        "def jacobi(A, b, x0, k):\n",
        "    # A = D + L + U\n",
        "    # D is matrix with diagonal elements\n",
        "    # L is lower triangular matrix\n",
        "    # U is upper triangular matrix\n",
        "    #\n",
        "    #\n",
        "    # Explaination to jacobi method :\n",
        "    #\n",
        "    # Ax = b\n",
        "    # (D + L + U)x = b\n",
        "    # Dx = -(L + U)x + b\n",
        "    # x = -D^(-1)(L + U)x  +  D^(-1)b\n",
        "    #\n",
        "    # x(k+1) = Bjx(k) + dj\n",
        "    #\n",
        "    # Bj =  -D^(-1)(L + U)\n",
        "    # Bj =  +D^(-1)b\n",
        "\n",
        "    D = np.diagflat(np.diag(A))         # gives ( n x n ) matrix with diagonal elements rest 0\n",
        "    diagonal_values = np.diag(A)        # gives ( 1 x n ) matrix with diagonal elements\n",
        "    \n",
        "    lower_plus_diag = np.tril(A)        # lower_plus_diag is matrix with lower triangular and diagonal elements\n",
        "    L = lower_plus_diag - D\n",
        "    U = A - lower_plus_diag\n",
        "\n",
        "    xk = x0\n",
        "    for i in range(k):\n",
        "        # xk1 = (1/diagonal_values)*( b - np.dot(L+U, xk) )\n",
        "        # or\n",
        "        xk1 = np.dot(np.linalg.inv(D), b - np.dot(L+U, xk))\n",
        "\n",
        "        print(\"\\n\")\n",
        "        print(\"Iteration number: \"+str(i+1))\n",
        "        print(\"xk+1\")\n",
        "        print(xk1)\n",
        "        print(\"xk\")\n",
        "        print(xk)\n",
        "        print(\"\\n\")\n",
        "\n",
        "        # Checking if xk == xk+1 (upto 4 decimal places)\n",
        "        if np.array_equal( np.around(xk, decimals=3), np.around(xk1, decimals=3)):\n",
        "            print(\"Stopping at iteration number: \"+str(i+1))\n",
        "            break\n",
        "        xk = xk1\n",
        "        if i == k-1:\n",
        "            print(\"Did not get converge !! Wrong solution\\nPrinting last iteration values :\\n\")\n",
        "    \n",
        "    return xk\n",
        "\n",
        "# ---------------------------------------------------------------------------------- #\n",
        "\n",
        "print(\"\\n\\n --- Jacobi Method --- \\n\\n\")\n",
        "print(\"\\n Select:\")\n",
        "print(\"1 : Random input ( Rarely get correct result )\")\n",
        "print(\"2 : Preset values ( May change in the file yourself )\\n\")\n",
        "type = int(input())\n",
        "\n",
        "# --------------------------------------------------- #\n",
        "# Random Input\n",
        "\n",
        "if type == 1:\n",
        "    print(\"\\nInput size of matrix\\n\")\n",
        "    size = int(input())\n",
        "    print(\"\\nInput number of iteartions to break if it does not converge\\n\")\n",
        "    iterations = int(input())\n",
        "\n",
        "    A = np.random.rand(size, size)\n",
        "    b = np.random.rand(size)\n",
        "    x = np.zeros(size)\n",
        "    k = 10                            # Input iterations yourself\n",
        "\n",
        "    print(\"\\n --- Creating random array --- \\n\")\n",
        "\n",
        "    print(\"\\nA :\\n\")\n",
        "    print(A)\n",
        "\n",
        "    print(\"\\nb :\\n\")\n",
        "    print(b)\n",
        "\n",
        "    print(\"\\nx :\\n\")\n",
        "    print(x)\n",
        "\n",
        "    print(\"\\nIteartions (k) :\\n\")\n",
        "    print(k)\n",
        "\n",
        "# --------------------------------------------------- #\n",
        "# Self Input\n",
        "\n",
        "else:\n",
        "    # Give input array A and b\n",
        "    A = np.array([[4.0, -2.0, 1.0], [1.0, -3.0, 2.0], [-1.0, 2.0, 6.0]])\n",
        "    b = [1.0, 2.0, 3.0]\n",
        "\n",
        "    # Give input x0\n",
        "    x = [1, 1, 1]\n",
        "\n",
        "    # k iterations\n",
        "    k = 100\n",
        "    # Stop If ( xk == xk+1 ) upto 4 decimal places\n",
        "\n",
        "    print(\"\\nA :\\n\")\n",
        "    print(A)\n",
        "\n",
        "    print(\"\\nb :\\n\")\n",
        "    print(b)\n",
        "\n",
        "    print(\"\\nx :\\n\")\n",
        "    print(x)\n",
        "\n",
        "    print(\"\\nIteartions (k) :\\n\")\n",
        "    print(k)\n",
        "\n",
        "# --------------------------------------------------- #\n",
        "\n",
        "print(jacobi(A,b,x,k))"
      ],
      "execution_count": 0,
      "outputs": []
    },
    {
      "cell_type": "markdown",
      "metadata": {
        "id": "5XcL8EJsMtuC",
        "colab_type": "text"
      },
      "source": [
        "SEGUNDO ALGORITMO DE METODO DE JACOBI  DE OTRA FORMA"
      ]
    },
    {
      "cell_type": "code",
      "metadata": {
        "id": "Nho1BRdfMuhT",
        "colab_type": "code",
        "colab": {}
      },
      "source": [
        "# -*- coding: utf-8 -*-\n",
        "\n",
        "\n",
        "import numpy as np\n",
        "\n",
        "a = np.array([[1, 2, -3, 4],\n",
        "           [2, 2, -2, 3],\n",
        "           [0, 1, 1, 0],\n",
        "           [1, -1, 1, -2]])\n",
        "b = np.array([12, 10, -1, -4])\n",
        "(n,) = np.shape(b)\n",
        "x = np.full(n, 1.0, float) # initial guess\n",
        "xnew = np.empty(n, float)\n",
        "iterlimit = 100\n",
        "tolerance = 1.0e-4\n",
        "\n",
        "# iterations:\n",
        "for iter in range(iterlimit):\n",
        "    for i in range(n):\n",
        "        s = 0\n",
        "        for j in range(n):\n",
        "            if j != i:\n",
        "                s += a[i, j]*x[j]\n",
        "        xnew[i] = -1/a[i,i] * (s - b[i])\n",
        "    if (abs(xnew - x) < tolerance).all():\n",
        "        break\n",
        "    else:\n",
        "        x = np.copy(xnew)\n",
        "\n",
        "print('Number of iterations: %d '% (iter + 1))\n",
        "print('The solution for the system of linear equations is:')\n",
        "print(x)"
      ],
      "execution_count": 0,
      "outputs": []
    },
    {
      "cell_type": "markdown",
      "metadata": {
        "id": "Qyuwl4dmMxrL",
        "colab_type": "text"
      },
      "source": [
        "TERCER ALGORITMO DE JACOBI   DISEÑADO DIFERENTE "
      ]
    },
    {
      "cell_type": "code",
      "metadata": {
        "id": "AEJlP_y2M0rE",
        "colab_type": "code",
        "colab": {}
      },
      "source": [
        "import numpy as np\n",
        "\n",
        "A = np.array([[7, 1, 2], [1, 8, 3], [2, 3, 9]])\n",
        "b = np.array([10, 8, 6])\n",
        "\n",
        "LU = np.zeros(A.shape)\n",
        "D = np.zeros(A.shape)\n",
        "for y in range(A.shape[1]):\n",
        "    for x in range(A.shape[0]):\n",
        "        if x == y:\n",
        "            D[x][y] = A[x][y]\n",
        "        else:\n",
        "            LU[x][y] = A[x][y]\n",
        "\n",
        "x = np.array([1000, 2000, 3000])\n",
        "\n",
        "for n in range(10):\n",
        "    # 1. calculate error\n",
        "    e = np.linalg.norm(b - A @ x)\n",
        "    print(n, x, e)\n",
        "\n",
        "    # 2. update\n",
        "    x = np.linalg.inv(D) @ (b - LU @ x)\n",
        "\n",
        "e = np.linalg.norm(b - A @ x)\n",
        "print(\"answer is %s (error = %s)\" % (x, e))"
      ],
      "execution_count": 0,
      "outputs": []
    }
  ]
}