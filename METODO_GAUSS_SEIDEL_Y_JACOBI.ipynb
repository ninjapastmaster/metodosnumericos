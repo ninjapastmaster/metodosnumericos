{
  "nbformat": 4,
  "nbformat_minor": 0,
  "metadata": {
    "colab": {
      "name": "METODO  GAUSS SEIDEL Y JACOBI",
      "provenance": [],
      "authorship_tag": "ABX9TyPVumb6Wqxsu3mwVJpaIbXo",
      "include_colab_link": true
    },
    "kernelspec": {
      "name": "python3",
      "display_name": "Python 3"
    }
  },
  "cells": [
    {
      "cell_type": "markdown",
      "metadata": {
        "id": "view-in-github",
        "colab_type": "text"
      },
      "source": [
        "<a href=\"https://colab.research.google.com/github/ninjapastmaster/metodosnumericos/blob/master/METODO_GAUSS_SEIDEL_Y_JACOBI.ipynb\" target=\"_parent\"><img src=\"https://colab.research.google.com/assets/colab-badge.svg\" alt=\"Open In Colab\"/></a>"
      ]
    },
    {
      "cell_type": "markdown",
      "metadata": {
        "id": "0We3vVBmMOaQ",
        "colab_type": "text"
      },
      "source": [
        "**METODOS NUMERICOS**"
      ]
    },
    {
      "cell_type": "markdown",
      "metadata": {
        "id": "DDRi-86SMN-R",
        "colab_type": "text"
      },
      "source": [
        "**METODO DE GAUSS-SEIDEL EN PYTHON**"
      ]
    },
    {
      "cell_type": "markdown",
      "metadata": {
        "id": "Ovspymn0MZUf",
        "colab_type": "text"
      },
      "source": [
        "Codigo con una matriz 4x4,podemos modificarle los valores numeros en la matriz para obtener resultados de cualquier tipo de ecuacion, tiene un maximo de de 10 iteraciones."
      ]
    },
    {
      "cell_type": "code",
      "metadata": {
        "id": "YouASPnfL7Ig",
        "colab_type": "code",
        "colab": {}
      },
      "source": [
        "import numpy as np\n",
        "\n",
        "#limite de iteraciones\n",
        "ITERATION_LIMIT = 10\n",
        "\n",
        "# inicializar la matriz o ecuacuiones ejemplo 4x4 ( se puede modificar 3x3 o 2x2)\n",
        "A = np.array([[10., -1., 2., 0.],#a\n",
        "              [-1., 11., -1., 3.],#b\n",
        "              [2., -1., 10., -1.],#c\n",
        "              [0., 3., -1., 8.]])#d\n",
        "#initialize the RHS vector\n",
        "  #resultados de cada ecuacion\n",
        "              #a  #b    #c   #d\n",
        "b = np.array([6., 25., -11., 15.])\n",
        "\n",
        "print(\"sistema de ecuaciones:\")\n",
        "for i in range(A.shape[0]):\n",
        "    row = [\"{0:3g}*x{1}\".format(A[i, j], j + 1) for j in range(A.shape[1])]\n",
        "    print(\"[{0}] = [{1:3g}]\".format(\" + \".join(row), b[i]))\n",
        "\n",
        "#iteraciones\n",
        "x = np.zeros_like(b)\n",
        "for it_count in range(1, ITERATION_LIMIT):\n",
        "    x_new = np.zeros_like(x)\n",
        "    print(\"valor inicial indicado del inicio {0}: {1}\".format(it_count, x))\n",
        "    for i in range(A.shape[0]):\n",
        "        s1 = np.dot(A[i, :i], x_new[:i])\n",
        "        s2 = np.dot(A[i, i + 1:], x[i + 1:])\n",
        "        x_new[i] = (b[i] - s1 - s2) / A[i, i]\n",
        "    if np.allclose(x, x_new, rtol=1e-8):\n",
        "        break\n",
        "    x = x_new\n",
        "\n",
        "print(\"Solucion: {0}\".format(x))\n",
        "error = np.dot(A, x) - b\n",
        "print(\"Error: {0}\".format(error))\n"
      ],
      "execution_count": 0,
      "outputs": []
    },
    {
      "cell_type": "markdown",
      "metadata": {
        "id": "zAz3cnmkMd5J",
        "colab_type": "text"
      },
      "source": [
        "**METODO DE JACOBI EN PYTHON**"
      ]
    },
    {
      "cell_type": "markdown",
      "metadata": {
        "id": "GkdkFnerMjPB",
        "colab_type": "text"
      },
      "source": [
        "EN ESTE METODO IGUAL QUE EL ANTERIOR EN EL CODIGO HAY QUE INGRESAR LOS DATOS NUMERICOS Y DETERMINAR EN NUMERO DE ITERACIONES QUE PUEDE HACER  Y  DAR UN RESULTADO SEGUN  EL NUMERO DE ITERACIONES."
      ]
    },
    {
      "cell_type": "code",
      "metadata": {
        "id": "vMBKS0vLMmwi",
        "colab_type": "code",
        "colab": {}
      },
      "source": [
        "\n",
        "import numpy as np\n",
        "\n",
        "# solucion iterativa \n",
        "# Jacobi metodo\n",
        "\n",
        "def jacobi(A, b, x0, k):\n",
        "    # A = D + L + U\n",
        "    # D es matriz con elementos diagonales\n",
        "    # L es la matriz triangular inferior\n",
        "    # U es la matriz triangular superior\n",
        "    #\n",
        "    #\n",
        "    # \n",
        "    #Explicación al método jacobi:\n",
        "    #\n",
        "    # Ax = b\n",
        "    # (D + L + U)x = b\n",
        "    # Dx = -(L + U)x + b\n",
        "    # x = -D^(-1)(L + U)x  +  D^(-1)b\n",
        "    #\n",
        "    # x(k+1) = Bjx(k) + dj\n",
        "    #\n",
        "    # Bj =  -D^(-1)(L + U)\n",
        "    # Bj =  +D^(-1)b\n",
        "\n",
        "    D = np.diagflat(np.diag(A))         # da matriz (n x n) con elementos diagonales resto 0\n",
        "    diagonal_values = np.diag(A)        # da (1 x n) matriz con elementos diagonales\n",
        "    \n",
        "    lower_plus_diag = np.tril(A)        # lower_plus_diag es una matriz con elementos triangulares y diagonales inferiores\n",
        "    L = lower_plus_diag - D\n",
        "    U = A - lower_plus_diag\n",
        "\n",
        "    xk = x0\n",
        "    for i in range(k):\n",
        "        # xk1 = (1/diagonal_values)*( b - np.dot(L+U, xk) )\n",
        "        # or\n",
        "        xk1 = np.dot(np.linalg.inv(D), b - np.dot(L+U, xk))\n",
        "\n",
        "        print(\"\\n\")\n",
        "        print(\"Numero de Iteraciones: \"+str(i+1))\n",
        "        print(\"xk+1\")\n",
        "        print(xk1)\n",
        "        print(\"xk\")\n",
        "        print(xk)\n",
        "        print(\"\\n\")\n",
        "\n",
        "        # Checking if xk == xk+1 (upto 4 decimal places)\n",
        "        if np.array_equal( np.around(xk, decimals=3), np.around(xk1, decimals=3)):\n",
        "            print(\"Parando en el número de iteración: \"+str(i+1))\n",
        "            break\n",
        "        xk = xk1\n",
        "        if i == k-1:\n",
        "            print(\"No se convergen !! Solución incorrecta \\ nImpresión de valores de última iteración: \\ n\")\n",
        "    \n",
        "    return xk\n",
        "\n",
        "# ---------------------------------------------------------------------------------- #\n",
        "\n",
        "print(\"\\n\\n --- Jacobi Method --- \\n\\n\")\n",
        "print(\"\\n Seleccionar:\")\n",
        "print(\"1 : Entrada aleatoria (rara vez obtiene el resultado correcto)\")\n",
        "print(\"2 : Valores preestablecidos (puede cambiar usted mismo en el archivo) \\n\")\n",
        "type = int(input())\n",
        "\n",
        "# --------------------------------------------------- #\n",
        "# Random Input\n",
        "\n",
        "if type == 1:\n",
        "    print(\"\\n Input size of matrix\\n\")\n",
        "    size = int(input())\n",
        "    print(\"\\n Introduzca el número de iteraciones para romper si no converge \\n\")\n",
        "    iterations = int(input())\n",
        "\n",
        "    A = np.random.rand(size, size)\n",
        "    b = np.random.rand(size)\n",
        "    x = np.zeros(size)\n",
        "    k = 10                           \n",
        "                             # Ingrese iteraciones usted mismo\n",
        "\n",
        "    print(\"\\n --- Crear una matriz aleatoria --- \\n\")\n",
        "\n",
        "    print(\"\\nA :\\n\")\n",
        "    print(A)\n",
        "\n",
        "    print(\"\\nb :\\n\")\n",
        "    print(b)\n",
        "\n",
        "    print(\"\\nx :\\n\")\n",
        "    print(x)\n",
        "\n",
        "    print(\"\\nIteraciones (k) :\\n\")\n",
        "    print(k)\n",
        "\n",
        "# --------------------------------------------------- #\n",
        "# Self Input\n",
        "\n",
        "else:\n",
        "    # Give input array A and b\n",
        "    A = np.array([[4.0, -2.0, 1.0], [1.0, -3.0, 2.0], [-1.0, 2.0, 6.0]])\n",
        "    b = [1.0, 2.0, 3.0]\n",
        "\n",
        "    # Dar entrada x0\n",
        "    x = [1, 1, 1]\n",
        "\n",
        "    # k Iteraciones\n",
        "    k = 10\n",
        "    # parar si ( xk == xk+1 ) hasta 4 decimales\n",
        "\n",
        "    print(\"\\nA :\\n\")\n",
        "    print(A)\n",
        "\n",
        "    print(\"\\nb :\\n\")\n",
        "    print(b)\n",
        "\n",
        "    print(\"\\nx :\\n\")\n",
        "    print(x)\n",
        "\n",
        "    print(\"\\nInteraciones (k) :\\n\")\n",
        "    print(k)\n",
        "\n",
        "# --------------------------------------------------- #\n",
        "\n",
        "print(jacobi(A,b,x,k))"
      ],
      "execution_count": 0,
      "outputs": []
    },
    {
      "cell_type": "markdown",
      "metadata": {
        "id": "5XcL8EJsMtuC",
        "colab_type": "text"
      },
      "source": [
        "SEGUNDO ALGORITMO DE METODO DE JACOBI  DE OTRA FORMA"
      ]
    },
    {
      "cell_type": "code",
      "metadata": {
        "id": "Nho1BRdfMuhT",
        "colab_type": "code",
        "colab": {}
      },
      "source": [
        "# -*- coding: utf-8 -*-\n",
        "\n",
        "\n",
        "import numpy as np\n",
        "\n",
        "a = np.array([[1, 2, -3, 4],\n",
        "           [2, 2, -2, 3],\n",
        "           [0, 1, 1, 0],\n",
        "           [1, -1, 1, -2]])\n",
        "b = np.array([12, 10, -1, -4])\n",
        "(n,) = np.shape(b)\n",
        "x = np.full(n, 1.0, float) # estimacion inical\n",
        "xnew = np.empty(n, float)\n",
        "iterlimit = 100\n",
        "tolerance = 1.0e-4\n",
        "\n",
        "# iteraciones:\n",
        "for iter in range(iterlimit):\n",
        "    for i in range(n):\n",
        "        s = 0\n",
        "        for j in range(n):\n",
        "            if j != i:\n",
        "                s += a[i, j]*x[j]\n",
        "        xnew[i] = -1/a[i,i] * (s - b[i])\n",
        "    if (abs(xnew - x) < tolerance).all():\n",
        "        break\n",
        "    else:\n",
        "        x = np.copy(xnew)\n",
        "\n",
        "print('Numero de iteraciones: %d '% (iter + 1))\n",
        "print('La solución para el sistema de ecuaciones lineales es:')\n",
        "print(x)"
      ],
      "execution_count": 0,
      "outputs": []
    },
    {
      "cell_type": "markdown",
      "metadata": {
        "id": "Qyuwl4dmMxrL",
        "colab_type": "text"
      },
      "source": [
        "TERCER ALGORITMO DE JACOBI   DISEÑADO DIFERENTE "
      ]
    },
    {
      "cell_type": "code",
      "metadata": {
        "id": "AEJlP_y2M0rE",
        "colab_type": "code",
        "colab": {}
      },
      "source": [
        "import numpy as np\n",
        "\n",
        "A = np.array([[7, 1, 2], [1, 8, 3], [2, 3, 9]])\n",
        "b = np.array([10, 8, 6])\n",
        "\n",
        "LU = np.zeros(A.shape)\n",
        "D = np.zeros(A.shape)\n",
        "for y in range(A.shape[1]):\n",
        "    for x in range(A.shape[0]):\n",
        "        if x == y:\n",
        "            D[x][y] = A[x][y]\n",
        "        else:\n",
        "            LU[x][y] = A[x][y]\n",
        "\n",
        "x = np.array([1000, 2000, 3000])\n",
        "\n",
        "for n in range(10):\n",
        "    # 1. calcular el error\n",
        "    e = np.linalg.norm(b - A @ x)\n",
        "    print(n, x, e)\n",
        "\n",
        "    # 2. actualizar\n",
        "    x = np.linalg.inv(D) @ (b - LU @ x)\n",
        "\n",
        "e = np.linalg.norm(b - A @ x)\n",
        "print(\"answer is %s (error = %s)\" % (x, e))"
      ],
      "execution_count": 0,
      "outputs": []
    }
  ]
}