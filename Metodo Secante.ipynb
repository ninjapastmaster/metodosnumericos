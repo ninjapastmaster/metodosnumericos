{
  "nbformat": 4,
  "nbformat_minor": 0,
  "metadata": {
    "colab": {
      "name": "Untitled",
      "provenance": [],
      "authorship_tag": "ABX9TyOvcHufAioGU5mmGGfookHi",
      "include_colab_link": true
    },
    "kernelspec": {
      "name": "python3",
      "display_name": "Python 3"
    }
  },
  "cells": [
    {
      "cell_type": "markdown",
      "metadata": {
        "id": "view-in-github",
        "colab_type": "text"
      },
      "source": [
        "<a href=\"https://colab.research.google.com/github/ninjapastmaster/metodosnumericos/blob/master/Metodo%20Secante.ipynb\" target=\"_parent\"><img src=\"https://colab.research.google.com/assets/colab-badge.svg\" alt=\"Open In Colab\"/></a>"
      ]
    },
    {
      "cell_type": "markdown",
      "metadata": {
        "id": "xlW51dGeKZBp",
        "colab_type": "text"
      },
      "source": [
        "**METODO SECANTE**"
      ]
    },
    {
      "cell_type": "markdown",
      "metadata": {
        "id": "Hc_Cbq1YQxIg",
        "colab_type": "text"
      },
      "source": [
        "En este algoritmo podemos variar  la operacion al inicio  con las variantes requeridas y lo mismo las iteraciones para que nos de un resultado"
      ]
    },
    {
      "cell_type": "code",
      "metadata": {
        "id": "Ys2JGk0pJqbZ",
        "colab_type": "code",
        "colab": {}
      },
      "source": [
        "''' Metodo de la Secante para encontar la raiz de una funcion\n",
        "    x= x1-f(x1)*(x1-x0)/(f(x1)-f(x0)). Entrada de datos: xo, x1,\n",
        "    tolerancia,numero de iteraciones maximo y funcion\n",
        "'''    \n",
        "def Secante(x0,x1,tol,N,f):\n",
        "\n",
        "    print(0,x0,x1)\n",
        "    i=1\n",
        "    \n",
        "    while i<=N:\n",
        "        x= x1 - (x1-x0)*f(x1)/(f(x1)-f(x0))  \n",
        "\n",
        "        print(i,x)\n",
        "        if abs(x-x1)<tol:\n",
        "            return x\n",
        "        i=i + 1\n",
        "        x0=x1    # redefinir x0\n",
        "        x1=x     #redefinir x1\n",
        "\n",
        "    print('El metodo fracaso despues de %d iteraciones' %N)\n",
        "    \n",
        "import math     #just in case\n",
        "    \n",
        "    # Datos para corrida de ejemplo\n",
        "    \n",
        "f=lambda x: x**3 + 4*x**2 - 10\n",
        "x0=1\n",
        "x1=2\n",
        "tol=0.0001\n",
        "N=20\n",
        "    \n",
        "x=Secante(x0,x1,tol,N,f)\n",
        "print()"
      ],
      "execution_count": 0,
      "outputs": []
    }
  ]
}